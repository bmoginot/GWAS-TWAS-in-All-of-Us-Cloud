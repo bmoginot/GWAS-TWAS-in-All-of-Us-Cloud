{
 "cells": [
  {
   "cell_type": "code",
   "execution_count": null,
   "metadata": {},
   "outputs": [],
   "source": [
    "# using biomart to find genomic coordinates of genes from spredixcan output\n",
    "install.packages(\"BiocManager\")\n",
    "BiocManager::install(\"biomaRt\")\n",
    "library(biomaRt)\n",
    "\n",
    "# data table and dplyr for data and table manipulation\n",
    "install.packages(\"BiocManager\")\n",
    "BiocManager::install(\"data.table\")\n",
    "library(data.table)\n",
    "\n",
    "install.packages(\"BiocManager\")\n",
    "BiocManager::install(\"dplyr\")\n",
    "library(dplyr)"
   ]
  },
  {
   "cell_type": "code",
   "execution_count": null,
   "metadata": {},
   "outputs": [],
   "source": [
    "# accessing the Ensembl biomart database for 'genes', specifically the human genes version 113 (can be changed or left out)\n",
    "biomart_access <- useEnsembl(biomart = \"genes\", dataset = \"hsapiens_gene_ensembl\", version = \"113\")\n",
    "\n",
    "# we read in the spredixcan output csv, making that our \"df\", or data frame for qqman plotting\n",
    "# string as factors = false so they wont be categorized \n",
    "df <- read.csv(\"/home/jupyter/GWAS-TWAS-in-All-of-Us-Cloud/qqman-twas-input.csv\", stringsAsFactors = FALSE)\n",
    "\n",
    "# removes the decimal after the gene, helps with merging and searching in general \n",
    "# this doesnt rename the gene, instead creates a new column so we dont lose data\n",
    "df$gene_id <- sub(\"\\\\..*\", \"\", df$gene)\n",
    "\n",
    "# head to see the data and make sure it was read correctly \n",
    "head(df, 10)"
   ]
  },
  {
   "cell_type": "code",
   "execution_count": null,
   "metadata": {},
   "outputs": [],
   "source": [
    "# use biomart to pull chromosomal location information \n",
    "# we need the gene_id to find it, the chromosomal name (chromosome), the start position and end position (we will only use start) and what the gene is called in the database\n",
    "gene_coords <- getBM(\n",
    "  attributes = c(\"ensembl_gene_id\", \"chromosome_name\", \"start_position\", \"end_position\", \"external_gene_name\"),\n",
    "  filters = \"ensembl_gene_id\",\n",
    "  values = df$gene_id,\n",
    "  mart = biomart_access\n",
    ")\n",
    "\n",
    "# attributes are the columns you want to retrieve/add from the database to your data\n",
    "# filters are for ensuring that youre using the same data base as was used for the previous tools (spredixcan)\n",
    "# values are what the database will use to search for your data, in our case the \"cleaned up\" gene_ids \n",
    "# mart is just the accessing that we created in the previous cell"
   ]
  },
  {
   "cell_type": "code",
   "execution_count": null,
   "metadata": {},
   "outputs": [],
   "source": [
    "# merge our TWAS table and biomart results \n",
    "merged_df <- merge(df, gene_coords, by.x = \"gene_id\", by.y = \"ensembl_gene_id\")\n",
    "\n",
    "# merging the original \"df\", with new \"gene_coords\", gene_id in df and ensembl_gene_id in gene_coords into a new dataframe merged_df"
   ]
  },
  {
   "cell_type": "code",
   "execution_count": null,
   "metadata": {},
   "outputs": [],
   "source": [
    "# make P column is numeric and remove NA p-values and 0s\n",
    "merged_df$P <- as.numeric(merged_df$pvalue)\n",
    "merged_df <- merged_df[is.finite(merged_df$P) & merged_df$P > 0, ]\n",
    "\n",
    "# make CHR rows numeric and remove rows with NA, keeping only autosomes (1-22)\n",
    "merged_df$CHR <- as.numeric(merged_df$chromosome_name)\n",
    "merged_df <- merged_df[!is.na(merged_df$CHR) & merged_df$CHR %in% 1:22, ]\n",
    "\n",
    "# double check data\n",
    "head(merged_df, 10)\n"
   ]
  },
  {
   "cell_type": "code",
   "execution_count": null,
   "metadata": {},
   "outputs": [],
   "source": [
    "# finding sample size to calculate threshold\n",
    "sample_size <- nrow(merged_df)\n",
    "print(sample_size)"
   ]
  },
  {
   "cell_type": "code",
   "execution_count": null,
   "metadata": {},
   "outputs": [],
   "source": [
    "# calculate the new bonferroni and threshold based on sample size \n",
    "bonferroni_threshold <- 0.05 / sample_size\n",
    "new_suggestive_threshold <- -log10(bonferroni_threshold)\n",
    "print(new_suggestive_threshold)"
   ]
  },
  {
   "cell_type": "code",
   "execution_count": null,
   "metadata": {},
   "outputs": [],
   "source": [
    "# use qqman to plot the chromosome, location, snp, and pvalue into manhattan plot\n",
    "library(qqman)\n",
    "manhattan(merged_df, chr = \"chromosome_name\", bp = \"start_position\", snp = \"gene_name\", p = \"pvalue\",\n",
    "          main = \"TWAS Manhattan Plot\",\n",
    "          col = c(\"mediumblue\", \"darkgreen\"),\n",
    "          suggestiveline = new_suggestive_threshold)\n"
   ]
  }
 ],
 "metadata": {
  "kernelspec": {
   "display_name": "R",
   "language": "R",
   "name": "ir"
  },
  "language_info": {
   "codemirror_mode": "r",
   "file_extension": ".r",
   "mimetype": "text/x-r-source",
   "name": "R",
   "pygments_lexer": "r",
   "version": "4.4.0"
  },
  "toc": {
   "base_numbering": 1,
   "nav_menu": {},
   "number_sections": true,
   "sideBar": true,
   "skip_h1_title": false,
   "title_cell": "Table of Contents",
   "title_sidebar": "Contents",
   "toc_cell": false,
   "toc_position": {},
   "toc_section_display": true,
   "toc_window_display": false
  }
 },
 "nbformat": 4,
 "nbformat_minor": 2
}
