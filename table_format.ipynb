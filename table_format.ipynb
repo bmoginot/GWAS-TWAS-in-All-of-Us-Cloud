{
 "cells": [
  {
   "cell_type": "code",
   "execution_count": null,
   "metadata": {
    "code_folding": []
   },
   "outputs": [],
   "source": [
    "#instructions to download miniconda3 from the terminal\n",
    "#mkdir -p ~/miniconda3\n",
    "#wget https://repo.anaconda.com/miniconda/Miniconda3-latest-Linux-x86_64.sh -O ~/miniconda3/miniconda.sh\n",
    "#bash ~/miniconda3/miniconda.sh -b -u -p ~/miniconda3\n",
    "#rm ~/miniconda3/miniconda.sh\n",
    "\n",
    "#clone repo\n",
    "#source ~/miniconda3/bin/activate\n",
    "#conda init --all\n",
    "#source ~/.bashrc\n",
    "\n",
    "#conda environment\n",
    "#clone the repository\n",
    "#cd ~\n",
    "#git clone https://github.com/hakyimlab/MetaXcan.git\n",
    "\n",
    "#conda environment for MetaXcan\n",
    "#cd MetaXcan/software\n",
    "#conda env create -f conda_env.yaml\n",
    "#conda activate imlabtools"
   ]
  },
  {
   "cell_type": "code",
   "execution_count": null,
   "metadata": {},
   "outputs": [],
   "source": [
    "#install.packages('R.utils')\n",
    "library(data.table)\n",
    "library(dplyr)\n",
    "library(tidyr)"
   ]
  },
  {
   "cell_type": "code",
   "execution_count": null,
   "metadata": {},
   "outputs": [],
   "source": [
    "#download reference genome\n",
    "#system(\"wget https://ftp.ncbi.nlm.nih.gov/snp/organisms/human_9606_b151_GRCh38p7/VCF/All_20180418.vcf.gz\")\n",
    "\n",
    "#save for future use\n",
    "#system(\"gsutil cp All_20180418.vcf.gz gs://fc-secure-bb61452f-d5e2-4d26-9227-6a9444241af8/data/\")\n",
    "\n",
    "#create file of chr and pos columns only to use for filtering\n",
    "#system(\"gsutil cat gs://fc-secure-bb61452f-d5e2-4d26-9227-6a9444241af8/data/filtered_261.2.tsv | awk 'NR > 1 {print $8, $9}' > subset_261.2.tsv\")\n",
    "\n",
    "#remove chr prefix\n",
    "#system(\"sed -e 's/chr//' -e 's/^X /23 /' subset_261.2.tsv > nochr261.2.tsv\")\n",
    "\n",
    "#filter large file, eliminating SNPs not present in sumstats file\n",
    "#system(\"awk 'NR==FNR {a[$1,$2]; next} !/^#/ && ($1,$2) in a' nochr261.2.tsv <(zcat All_20180418.vcf.gz) > filtered_20180418.vcf\")\n",
    "\n",
    "#remove metadata rows\n",
    "#system(\"awk '!/^##/' filtered_20180418.vcf > 261.2ref.vcf\")\n",
    "\n",
    "#copy to bucket\n",
    "#system(\"gsutil cp 261.2ref.vcf gs://fc-secure-bb61452f-d5e2-4d26-9227-6a9444241af8/data/\")"
   ]
  },
  {
   "cell_type": "code",
   "execution_count": null,
   "metadata": {},
   "outputs": [],
   "source": [
    "#read in table\n",
    "name_of_file <- 'filtered_261.2.tsv'\n",
    "\n",
    "my_bucket <- Sys.getenv('WORKSPACE_BUCKET')\n",
    "system(paste0(\"gsutil cp \", my_bucket, \"/data/\", name_of_file, \" .\"), intern=T)\n",
    "system(\"gsutil cp gs://fc-secure-bb61452f-d5e2-4d26-9227-6a9444241af8/data/filtered_261.2.tsv\")\n",
    "\n",
    "table <- fread(name_of_file, header=TRUE)\n",
    "\n",
    "#check table\n",
    "#head(table)"
   ]
  },
  {
   "cell_type": "code",
   "execution_count": null,
   "metadata": {},
   "outputs": [],
   "source": [
    "#reformat locus column to chr_pos_ref_alt_b38\n",
    "table$locus_formatted <- gsub(\":\", \"_\", table$locus) #colon to underscore\n",
    "table$alleles_formatted <- gsub('\\\\[\"', \"\", table$alleles)  #remove opening [\n",
    "table$alleles_formatted <- gsub('\"\\\\]', \"\", table$alleles_formatted)  #remove closing ]\n",
    "table$alleles_formatted <- gsub('\",\"', \"_\", table$alleles_formatted)  #comma to underscore\n",
    "\n",
    "#split allele column\n",
    "table <- table %>%\n",
    "  separate(alleles_formatted, into = c(\"A1\", \"A2\"), sep = \"_\", remove=F)\n",
    "\n",
    "#combine strings\n",
    "table$SNP <- paste0(table$locus_formatted, \"_\", table$alleles_formatted, \"_b38\")\n",
    "\n",
    "#remove intermediate columns\n",
    "table$locus_formatted <- NULL\n",
    "table$alleles_formatted <- NULL\n",
    "\n",
    "#edit sex chromosomes\n",
    "table$CHR <- gsub(\"X\", \"23\", table$CHR)\n",
    "table$CHR <- gsub(\"Y\", \"24\", table$CHR)\n",
    "\n",
    "#check table\n",
    "#head(table)"
   ]
  },
  {
   "cell_type": "code",
   "execution_count": null,
   "metadata": {},
   "outputs": [],
   "source": [
    "#read in\n",
    "name_of_vcf <- '261.2ref.vcf'\n",
    "system(paste0(\"gsutil cp \", my_bucket, \"/data/\", name_of_vcf, \" .\"), intern=T)\n",
    "system(\"gsutil cp gs://fc-secure-bb61452f-d5e2-4d26-9227-6a9444241af8/data/261.2ref.vcf\")\n",
    "\n",
    "reference_data <- fread(name_of_vcf, header = FALSE, sep='\\t')\n",
    "reference_data <- reference_data[,1:3]\n",
    "colnames(reference_data) <- c(\"CHR\", \"POS\", \"rsID\")\n",
    "\n",
    "#format data for matching\n",
    "table$CHR <- as.character(table$CHR)\n",
    "table$POS <- as.character(table$POS)\n",
    "\n",
    "reference_data$CHR <- paste0(\"chr\", reference_data$CHR)\n",
    "reference_data$CHR <- as.character(reference_data$CHR)\n",
    "reference_data$POS <- as.character(reference_data$POS)\n",
    "\n",
    "#check tables\n",
    "#head(reference_data)\n",
    "#head(table)"
   ]
  },
  {
   "cell_type": "code",
   "execution_count": null,
   "metadata": {},
   "outputs": [],
   "source": [
    "#merge files\n",
    "merged_data <- merge(table, reference_data[, c(\"CHR\", \"POS\", \"rsID\")], by = c(\"CHR\", \"POS\"), all.x = TRUE)\n",
    "\n",
    "#remove un-needed columns\n",
    "filtered_merged_data <- merged_data[, c(1, 2, 13, 14, 15, 16, 5, 6, 8)]\n",
    "\n",
    "#check table\n",
    "#head(filtered_merged_data)"
   ]
  },
  {
   "cell_type": "code",
   "execution_count": null,
   "metadata": {},
   "outputs": [],
   "source": [
    "#final formatting\n",
    "\n",
    "#format chromosomes\n",
    "filtered_merged_data$CHR <- gsub(\"chr\", \"\", filtered_merged_data$CHR)\n",
    "filtered_merged_data$CHR <- gsub(\"X\", \"23\", filtered_merged_data$CHR)\n",
    "filtered_merged_data$CHR <- gsub(\"Y\", \"24\", filtered_merged_data$CHR)\n",
    "\n",
    "#make numeric\n",
    "filtered_merged_data$CHR <- as.numeric(filtered_merged_data$CHR)\n",
    "filtered_merged_data$POS <- as.numeric(filtered_merged_data$POS)\n",
    "\n",
    "#column names\n",
    "filtered_merged_data$P <- filtered_merged_data$Pvalue\n",
    "filtered_merged_data$Pvalue <- NULL\n",
    "\n",
    "#sort by chr, pos\n",
    "filtered_merged_data <- filtered_merged_data %>%\n",
    "  arrange(CHR, POS)\n",
    "\n",
    "#check table\n",
    "#print(filtered_merged_data)"
   ]
  },
  {
   "cell_type": "code",
   "execution_count": null,
   "metadata": {},
   "outputs": [],
   "source": [
    "#write table\n",
    "destination_filename <- 'formatted_261.2.tsv'\n",
    "\n",
    "#store the dataframe in current workspace\n",
    "write.table(filtered_merged_data, destination_filename, col.names=TRUE, row.names=FALSE, quote=FALSE, sep=\"\\t\")\n",
    "\n",
    "#copy the file from current workspace to the bucket\n",
    "system(paste0(\"gsutil cp ./\", destination_filename, \" \", my_bucket, \"/data/\"), intern=T)"
   ]
  },
  {
   "cell_type": "code",
   "execution_count": null,
   "metadata": {},
   "outputs": [],
   "source": [
    "#check if file is in the bucket\n",
    "system(paste0(\"gsutil ls \", my_bucket, \"/data/\"), intern=T)"
   ]
  },
  {
   "cell_type": "code",
   "execution_count": null,
   "metadata": {
    "code_folding": []
   },
   "outputs": [],
   "source": [
    "#run S-PrediXcan\n",
    "#os.chdir(\"/home/jupyter/packages/MetaXcan/software\")\n",
    "#os.system(\"conda activate imlabtools\")\n",
    "\n",
    "#os.system(\"SPrediXcan.py --model_db_path allofus_test/eqtl/mashr/mashr_Stomach.db --covariance allofus/test/eqtl/mashr/mashr_Stomach.txt.gz --gwas_file gs://fc-secure-bb61452f-d5e2-4d26-9227-6a9444241af8/data/formatted_261.2.tsv --snp_column SNP --effect_allele_column A1 --non_effect_allele_column A2 --beta_column BETA --se_column SE --pvalue_column Pvalue --output_file results/261.2.csv\")\n",
    "\n",
    "#save to bucket\n",
    "#reference_filename <- 'ref_build38.vcf'\n",
    "\n",
    "#store the dataframe in current workspace\n",
    "#write.table(reference_data, reference_filename, col.names=TRUE, row.names=FALSE, quote=FALSE, sep=\"\\t\")\n",
    "\n",
    "#copy the file from current workspace to the bucket\n",
    "#system(paste0(\"gsutil cp ./\", reference_filename, \" \", my_bucket, \"/data/\"), intern=T)"
   ]
  }
 ],
 "metadata": {
  "kernelspec": {
   "display_name": "R",
   "language": "R",
   "name": "ir"
  },
  "language_info": {
   "codemirror_mode": "r",
   "file_extension": ".r",
   "mimetype": "text/x-r-source",
   "name": "R",
   "pygments_lexer": "r",
   "version": "4.4.0"
  },
  "toc": {
   "base_numbering": 1,
   "nav_menu": {},
   "number_sections": true,
   "sideBar": true,
   "skip_h1_title": false,
   "title_cell": "Table of Contents",
   "title_sidebar": "Contents",
   "toc_cell": false,
   "toc_position": {},
   "toc_section_display": true,
   "toc_window_display": false
  }
 },
 "nbformat": 4,
 "nbformat_minor": 2
}
