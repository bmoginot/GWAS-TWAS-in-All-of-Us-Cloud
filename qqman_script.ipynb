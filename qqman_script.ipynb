{
 "cells": [
  {
   "cell_type": "code",
   "execution_count": null,
   "metadata": {},
   "outputs": [],
   "source": [
    "library(data.table)\n",
    "library(dplyr)\n",
    "library(stringr)\n",
    "library(qqman)"
   ]
  },
  {
   "cell_type": "code",
   "execution_count": null,
   "metadata": {},
   "outputs": [],
   "source": [
    "# making sure were in the right directory \n",
    "system(\"pwd\", intern = TRUE)"
   ]
  },
  {
   "cell_type": "code",
   "execution_count": null,
   "metadata": {},
   "outputs": [],
   "source": [
    "# path to the google bucket \n",
    "bucket <- \"gs://fc-secure-bb61452f-d5e2-4d26-9227-6a9444241af8/data\"\n",
    "\n",
    "# Get a list of all .tsv files in the bucket\n",
    "tsv_files <- system(sprintf(\"gsutil ls %s | grep '\\\\.tsv$'\", bucket), intern = TRUE)\n",
    "\n",
    "# orint all phenotype tsv files \n",
    "print(tsv_files)\n"
   ]
  },
  {
   "cell_type": "code",
   "execution_count": null,
   "metadata": {},
   "outputs": [],
   "source": [
    "# view the data file format (its a tsv but seeing this helps us understand how to reformat the table for qqman)\n",
    "system(\"gsutil cat gs://fc-secure-bb61452f-d5e2-4d26-9227-6a9444241af8/data/401.tsv | head -n 20\", intern = TRUE)"
   ]
  },
  {
   "cell_type": "code",
   "execution_count": null,
   "metadata": {},
   "outputs": [],
   "source": [
    "# read in files so that they can be reformmatted for qqman (in progress) "
   ]
  },
  {
   "cell_type": "code",
   "execution_count": null,
   "metadata": {},
   "outputs": [],
   "source": [
    "# Creates a manhattan plot from PLINK assoc output (or any data frame with chromosome, position,\n",
    "# and p-value).\n",
    "\n",
    "# #format: \n",
    "\n",
    "#   SNP CHR BP         P\n",
    "# 1 rs1   1  1 0.9148060\n",
    "# 2 rs2   1  2 0.9370754\n",
    "# 3 rs3   1  3 0.2861395\n",
    "# 4 rs4   1  4 0.8304476\n",
    "# 5 rs5   1  5 0.6417455\n",
    "# 6 rs6   1  6 0.5190959\n",
    "\n",
    "# installation \n",
    "install.packages(\"qqman\")\n",
    "\n",
    "\n",
    "# Load the library\n",
    "library(qqman)\n",
    "\n",
    "# manhattan(\n",
    "# x,\n",
    "# chr = \"CHR\",\n",
    "# bp = \"BP\",\n",
    "# p = \"P\",\n",
    "# snp = \"SNP\",\n",
    "# col = c(\"gray10\", \"gray60\"),\n",
    "# chrlabs = NULL,\n",
    "# suggestiveline = -log10(1e-05),\n",
    "# genomewideline = -log10(5e-08),\n",
    "# highlight = NULL,\n",
    "# logp = TRUE,\n",
    "# annotatePval = NULL,\n",
    "# annotateTop = TRUE,\n",
    "# )\n",
    "\n",
    "manhattan(gwasResults) #example given qqman test data "
   ]
  },
  {
   "cell_type": "code",
   "execution_count": null,
   "metadata": {},
   "outputs": [],
   "source": []
  }
 ],
 "metadata": {
  "kernelspec": {
   "display_name": "R",
   "language": "R",
   "name": "ir"
  },
  "language_info": {
   "codemirror_mode": "r",
   "file_extension": ".r",
   "mimetype": "text/x-r-source",
   "name": "R",
   "pygments_lexer": "r",
   "version": "4.4.0"
  },
  "toc": {
   "base_numbering": 1,
   "nav_menu": {},
   "number_sections": true,
   "sideBar": true,
   "skip_h1_title": false,
   "title_cell": "Table of Contents",
   "title_sidebar": "Contents",
   "toc_cell": false,
   "toc_position": {},
   "toc_section_display": true,
   "toc_window_display": false
  }
 },
 "nbformat": 4,
 "nbformat_minor": 2
}
