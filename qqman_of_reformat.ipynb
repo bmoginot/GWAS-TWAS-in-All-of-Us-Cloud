{
 "cells": [
  {
   "cell_type": "code",
   "execution_count": null,
   "metadata": {},
   "outputs": [],
   "source": [
    "library(qqman)\n",
    "\n",
    "data <- read.table('/home/jupyter/GWAS-TWAS-in-All-of-Us-Cloud/reformat_output_file.txt', \n",
    "                   header = TRUE, \n",
    "                   sep = ' ', \n",
    "                   stringsAsFactors = FALSE)\n",
    "\n",
    "# make the chromosome numerical because if you dont its a character and you get error\n",
    "data$CHR <- as.numeric(data$CHR)\n",
    "\n",
    "head(data)\n",
    "\n",
    "# gets rid of any NA values introduced \"by coercion\"\n",
    "data <- data[!is.na(data$CHR), ]\n",
    "\n",
    "\n",
    "manhattan(\n",
    "data,\n",
    "chr = \"CHR\",\n",
    "bp = \"BP\",\n",
    "p = \"P\",\n",
    "snp = \"SNP\",\n",
    "col = c(\"red\", \"blue\"),\n",
    "suggestiveline = -log10(1e-05),\n",
    "genomewideline = -log10(5e-08),\n",
    "logp = TRUE,\n",
    "annotateTop = TRUE,\n",
    ")\n"
   ]
  },
  {
   "cell_type": "code",
   "execution_count": null,
   "metadata": {},
   "outputs": [],
   "source": []
  }
 ],
 "metadata": {
  "kernelspec": {
   "display_name": "R",
   "language": "R",
   "name": "ir"
  },
  "language_info": {
   "codemirror_mode": "r",
   "file_extension": ".r",
   "mimetype": "text/x-r-source",
   "name": "R",
   "pygments_lexer": "r",
   "version": "4.4.0"
  },
  "toc": {
   "base_numbering": 1,
   "nav_menu": {},
   "number_sections": true,
   "sideBar": true,
   "skip_h1_title": false,
   "title_cell": "Table of Contents",
   "title_sidebar": "Contents",
   "toc_cell": false,
   "toc_position": {},
   "toc_section_display": true,
   "toc_window_display": false
  }
 },
 "nbformat": 4,
 "nbformat_minor": 2
}
