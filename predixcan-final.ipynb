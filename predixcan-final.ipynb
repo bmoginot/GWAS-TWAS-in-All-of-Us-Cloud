{
 "cells": [
  {
   "cell_type": "code",
   "execution_count": null,
   "metadata": {},
   "outputs": [],
   "source": [
    "### Set up S-PrediXcan ###\n",
    "\"\"\"\n",
    "runs bash script that\n",
    "    1) downloads and initializes miniconda3\n",
    "    2) clones MetaXcan GitHub repository, which contains S-PrediXcan\n",
    "    3) creates conda virtual environment with dependencies\n",
    "    4) downloads reference files, which include, for several tissue types,\n",
    "          i) transcriptome prediction model databases\n",
    "         ii) SNP covariance matrices\n",
    "\"\"\"\n",
    "import os\n",
    "os.system(\"./set-up-predixcan.sh\")"
   ]
  },
  {
   "cell_type": "code",
   "execution_count": null,
   "metadata": {},
   "outputs": [],
   "source": [
    "os.system(\"conda run -p /home/jupyter/miniconda3/envs/imlabtools \\\n",
    "python MetaXcan/software/SPrediXcan.py \\\n",
    "--model_db_path data/DGN-WB_0.5.db \\\n",
    "--covariance data/covariance.DGN-WB_0.5.txt.gz \\\n",
    "--gwas_folder data/GWAS \\\n",
    "--gwas_file_pattern '.*gz' \\\n",
    "--snp_column SNP \\\n",
    "--effect_allele_column A1 \\\n",
    "--non_effect_allele_column A2 \\\n",
    "--beta_column BETA \\\n",
    "--pvalue_column P \\\n",
    "--output_file results/test.csv\")"
   ]
  }
 ],
 "metadata": {
  "kernelspec": {
   "display_name": "Python 3",
   "language": "python",
   "name": "python3"
  },
  "language_info": {
   "codemirror_mode": {
    "name": "ipython",
    "version": 3
   },
   "file_extension": ".py",
   "mimetype": "text/x-python",
   "name": "python",
   "nbconvert_exporter": "python",
   "pygments_lexer": "ipython3",
   "version": "3.10.12"
  },
  "toc": {
   "base_numbering": 1,
   "nav_menu": {},
   "number_sections": true,
   "sideBar": true,
   "skip_h1_title": false,
   "title_cell": "Table of Contents",
   "title_sidebar": "Contents",
   "toc_cell": false,
   "toc_position": {},
   "toc_section_display": true,
   "toc_window_display": false
  }
 },
 "nbformat": 4,
 "nbformat_minor": 2
}
