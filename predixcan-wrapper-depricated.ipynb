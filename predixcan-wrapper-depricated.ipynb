{
 "cells": [
  {
   "cell_type": "code",
   "execution_count": null,
   "metadata": {},
   "outputs": [],
   "source": [
    "### Set up S-PrediXcan ###\n",
    "import os\n",
    "os.system(\"./set-up-predixcan.sh\")"
   ]
  },
  {
   "cell_type": "code",
   "execution_count": null,
   "metadata": {},
   "outputs": [],
   "source": [
    "# list models that can be passed to --reference option\n",
    "# choose a model that reflects the tissue type affected by the phenotype you are investigating\n",
    "import os\n",
    "os.system(\"python run-predixcan.py --databases\")"
   ]
  },
  {
   "cell_type": "code",
   "execution_count": null,
   "metadata": {},
   "outputs": [],
   "source": [
    "### Run S-PrediXcan ###\n",
    "import os\n",
    "data = \"META_formatted_gtex_741.1.tsv\" # path to input file\n",
    "phecode = \"741.1\" # target phecode\n",
    "pop = \"META\" # target population\n",
    "ref = \"Whole_Blood\" # model to use in analysis; run above cell to list possible models\n",
    "os.system(f\"python run-predixcan.py -i {data} --phecode {phecode} --pop {pop} -r {ref}\") # run S-PrediXcan"
   ]
  },
  {
   "cell_type": "code",
   "execution_count": null,
   "metadata": {},
   "outputs": [],
   "source": [
    "# Run QQman on TWAS sum stats\n",
    "import os\n",
    "os.system(f\"Rscript 06twas_qqman.R --phecode {phecode} --pop {pop}\")"
   ]
  }
 ],
 "metadata": {
  "kernelspec": {
   "display_name": "Python 3",
   "language": "python",
   "name": "python3"
  },
  "language_info": {
   "codemirror_mode": {
    "name": "ipython",
    "version": 3
   },
   "file_extension": ".py",
   "mimetype": "text/x-python",
   "name": "python",
   "nbconvert_exporter": "python",
   "pygments_lexer": "ipython3",
   "version": "3.10.12"
  },
  "toc": {
   "base_numbering": 1,
   "nav_menu": {},
   "number_sections": true,
   "sideBar": true,
   "skip_h1_title": false,
   "title_cell": "Table of Contents",
   "title_sidebar": "Contents",
   "toc_cell": false,
   "toc_position": {},
   "toc_section_display": true,
   "toc_window_display": false
  }
 },
 "nbformat": 4,
 "nbformat_minor": 2
}
