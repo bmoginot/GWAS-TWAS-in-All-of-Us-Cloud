{
 "cells": [
  {
   "cell_type": "code",
   "execution_count": null,
   "metadata": {},
   "outputs": [],
   "source": [
    "## Installation of of database packages from Bioconductor, if already installed not necessary ##\n",
    "\n",
    "# First installing BiocManager as well as test db\n",
    "if (!requireNamespace(\"BiocManager\", quietly = TRUE))\n",
    "  install.packages(\"BiocManager\")\n",
    "BiocManager::install(\"ensembldb\")\n",
    "BiocManager::install(\"EnsDb.Hsapiens.v75\")"
   ]
  },
  {
   "cell_type": "code",
   "execution_count": null,
   "metadata": {},
   "outputs": [],
   "source": [
    "# installing locuszoomr from CRAN\n",
    "install.packages(\"locuszoomr\")"
   ]
  },
  {
   "cell_type": "code",
   "execution_count": null,
   "metadata": {},
   "outputs": [],
   "source": [
    "# Looking at example data\n",
    "\n",
    "library(locuszoomr)\n",
    "data(SLE_gwas_sub)\n",
    "head(SLE_gwas_sub)"
   ]
  },
  {
   "cell_type": "code",
   "execution_count": null,
   "metadata": {},
   "outputs": [],
   "source": [
    "# Example Plot\n",
    "library(EnsDb.Hsapiens.v75)\n",
    "loc <- locus(data = SLE_gwas_sub, gene = \"UBE2L3\", flank = 1e5,\n",
    "            ens_db = \"EnsDb.Hsapiens.v75\")\n",
    "summary(loc)"
   ]
  },
  {
   "cell_type": "code",
   "execution_count": null,
   "metadata": {},
   "outputs": [],
   "source": [
    "locus_plot(loc)"
   ]
  },
  {
   "cell_type": "markdown",
   "metadata": {},
   "source": [
    "Now onto using GWAS sum stats from Google bucket"
   ]
  },
  {
   "cell_type": "code",
   "execution_count": null,
   "metadata": {},
   "outputs": [],
   "source": [
    "# checking directory\n",
    "getwd()"
   ]
  },
  {
   "cell_type": "code",
   "execution_count": null,
   "metadata": {},
   "outputs": [],
   "source": [
    "system(\"gsutil ls gs://fc-secure-bb61452f-d5e2-4d26-9227-6a9444241af8/data\", intern=TRUE)"
   ]
  },
  {
   "cell_type": "code",
   "execution_count": null,
   "metadata": {},
   "outputs": [],
   "source": [
    "# path to the google bucket \n",
    "bucket <- \"gs://fc-secure-bb61452f-d5e2-4d26-9227-6a9444241af8/data\"\n",
    "\n",
    "# Looking into bucket data directory to see what files are already stored\n",
    "system(paste(\"gsutil ls\", bucket, sep = \" \"),intern=TRUE)"
   ]
  },
  {
   "cell_type": "code",
   "execution_count": null,
   "metadata": {},
   "outputs": [],
   "source": [
    "# view the data file format (its a tsv but seeing this helps us understand how to reformat the table for qqman)\n",
    "system(\"gsutil cat gs://fc-secure-bb61452f-d5e2-4d26-9227-6a9444241af8/data/401.tsv | head -n 20\", intern = TRUE)"
   ]
  },
  {
   "cell_type": "code",
   "execution_count": null,
   "metadata": {},
   "outputs": [],
   "source": [
    "# reading in .tsv file\n",
    "system(\"gsutil cp gs://fc-secure-bb61452f-d5e2-4d26-9227-6a9444241af8/data/401.tsv ./\")\n",
    "gwas_data <- read.table(file = \"gs://fc-secure-bb61452f-d5e2-4d26-9227-6a9444241af8/data/401.tsv\",\n",
    "                       sep = \"\\t\", header = TRUE)\n",
    "gwas_data"
   ]
  }
 ],
 "metadata": {
  "kernelspec": {
   "display_name": "R",
   "language": "R",
   "name": "ir"
  },
  "language_info": {
   "codemirror_mode": "r",
   "file_extension": ".r",
   "mimetype": "text/x-r-source",
   "name": "R",
   "pygments_lexer": "r",
   "version": "4.4.0"
  },
  "toc": {
   "base_numbering": 1,
   "nav_menu": {},
   "number_sections": true,
   "sideBar": true,
   "skip_h1_title": false,
   "title_cell": "Table of Contents",
   "title_sidebar": "Contents",
   "toc_cell": false,
   "toc_position": {},
   "toc_section_display": true,
   "toc_window_display": false
  }
 },
 "nbformat": 4,
 "nbformat_minor": 2
}
