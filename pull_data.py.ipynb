{
 "cells": [
  {
   "cell_type": "code",
   "execution_count": null,
   "metadata": {},
   "outputs": [],
   "source": [
    "import os\n",
    "import numpy as np\n",
    "import pandas as pd\n",
    "import argparse\n",
    "import sys\n",
    "import hail as hl"
   ]
  },
  {
   "cell_type": "code",
   "execution_count": null,
   "metadata": {},
   "outputs": [],
   "source": [
    "#arguments\n",
    "def check_arg(args=None):\n",
    "    parser = argparse.ArgumentParser(description=\"import hail table from phenotype accession number\")\n",
    "    parser.add_argument('-p', '--phecode', help='path to input file', required='True')\n",
    "    return parser.parse_args(args)\n",
    "\n",
    "args = check_arg(sys.argv[1:])\n",
    "#phenotype_id = 401\n",
    "phenotype_id = args.phecode"
   ]
  },
  {
   "cell_type": "code",
   "execution_count": null,
   "metadata": {},
   "outputs": [],
   "source": [
    "#initialize hail\n",
    "hl.init()\n",
    "\n",
    "#define bucket to save to\n",
    "bucket = os.getenv('WORKSPACE_BUCKET')\n",
    "bucket # gs://fc-secure-bb61452f-d5e2-4d26-9227-6a9444241af8/\n",
    "\n",
    "#not necessary, shows files in bucket searched\n",
    "os.system(f\"gsutil -u $GOOGLE_PROJECT ls gs://fc-aou-datasets-controlled/AllxAll/v1/ht/ACAF/META/phenotype_{phenotype_id}_ACAF_results.ht\")\n",
    "\n",
    "#find hail table and save to variable\n",
    "ht = hl.read_table(f\"gs://fc-aou-datasets-controlled/AllxAll/v1/ht/ACAF/META/phenotype_{phenotype_id}_ACAF_results.ht\")"
   ]
  },
  {
   "cell_type": "code",
   "execution_count": null,
   "metadata": {},
   "outputs": [],
   "source": [
    "#show first few lines of hail table\n",
    "ht.show(20)\n",
    "\n",
    "#summary of table\n",
    "print(ht.describe())"
   ]
  },
  {
   "cell_type": "code",
   "execution_count": null,
   "metadata": {},
   "outputs": [],
   "source": [
    "#export file\n",
    "gt_path = f'{bucket}/data/{phenotype_id}.tsv'\n",
    "gt_path\n",
    "\n",
    "ht.export(gt_path)"
   ]
  },
  {
   "cell_type": "code",
   "execution_count": null,
   "metadata": {},
   "outputs": [],
   "source": [
    "#to view contents of bucket\n",
    "os.system(f\"gsutil -u $GOOGLE_PROJECT ls gs://fc-secure-bb61452f-d5e2-4d26-9227-6a9444241af8/data\")\n",
    "\n",
    "#to remove file from bucket\n",
    "#os.system(\"gsutil rm gs://fc-secure-bb61452f-d5e2-4d26-9227-6a9444241af8/data/file\")\n",
    "\n",
    "#to view file in bucket (terminal)\n",
    "#gsutil cat gs://fc-secure-bb61452f-d5e2-4d26-9227-6a9444241af8/data/401.tsv | head -n 10"
   ]
  }
 ],
 "metadata": {
  "kernelspec": {
   "display_name": "Python 3",
   "language": "python",
   "name": "python3"
  },
  "language_info": {
   "codemirror_mode": {
    "name": "ipython",
    "version": 3
   },
   "file_extension": ".py",
   "mimetype": "text/x-python",
   "name": "python",
   "nbconvert_exporter": "python",
   "pygments_lexer": "ipython3",
   "version": "3.10.12"
  },
  "toc": {
   "base_numbering": 1,
   "nav_menu": {},
   "number_sections": true,
   "sideBar": true,
   "skip_h1_title": false,
   "title_cell": "Table of Contents",
   "title_sidebar": "Contents",
   "toc_cell": false,
   "toc_position": {
    "height": "calc(100% - 180px)",
    "left": "10px",
    "top": "150px",
    "width": "165px"
   },
   "toc_section_display": true,
   "toc_window_display": true
  }
 },
 "nbformat": 4,
 "nbformat_minor": 2
}
