{
 "cells": [
  {
   "cell_type": "code",
   "execution_count": null,
   "metadata": {},
   "outputs": [],
   "source": [
    "# instructions to download miniconda3 per their website\n",
    "\n",
    "# from the terminal run these lines of code:\n",
    "\"\"\"\n",
    "mkdir -p ~/miniconda3\n",
    "wget https://repo.anaconda.com/miniconda/Miniconda3-latest-Linux-x86_64.sh -O ~/miniconda3/miniconda.sh\n",
    "bash ~/miniconda3/miniconda.sh -b -u -p ~/miniconda3\n",
    "rm ~/miniconda3/miniconda.sh\n",
    "\n",
    "source ~/miniconda3/bin/activate\n",
    "conda init --all\n",
    "source ~/.bashrc\n",
    "\"\"\""
   ]
  },
  {
   "cell_type": "code",
   "execution_count": null,
   "metadata": {},
   "outputs": [],
   "source": [
    "# set up MetaXcan\n",
    "\n",
    "# clone the repository\n",
    "\"\"\"\n",
    "cd ~\n",
    "git clone https://github.com/hakyimlab/MetaXcan.git\n",
    "\"\"\"\n",
    "\n",
    "# create a conda environment for MetaXcan\n",
    "\"\"\"\n",
    "cd MetaXcan/software\n",
    "conda env create -f conda_env.yaml\n",
    "conda activate imlabtools\n",
    "\"\"\"\n",
    "\n",
    "### IGNORE BELOW IF TESTING ON COMMAND LINE ###\n",
    "\n",
    "# then, open up a jupyter notebook\n",
    "# click on the 'Kernel' tab at the top\n",
    "# hover over 'Change kernel'\n",
    "# click on 'Python [conda env:imlabtools]'"
   ]
  },
  {
   "cell_type": "code",
   "execution_count": null,
   "metadata": {},
   "outputs": [],
   "source": [
    "# get covariance matrices via\n",
    "\n",
    "\"\"\"\n",
    "mkdir allofus_test\n",
    "cd allofus_test\n",
    "wget https://zenodo.org/record/3518299/files/mashr_eqtl.tar?download=1 -O mashr_eqtl.tar\n",
    "tar -xvpf mashr_eqtl.tar\n",
    "\"\"\"\n",
    "\n",
    "# transcriptome prediction model database and snp covariance matrices contained therein"
   ]
  },
  {
   "cell_type": "code",
   "execution_count": null,
   "metadata": {},
   "outputs": [],
   "source": [
    "# format data for MetaXcan\n",
    "\n",
    "import os\n",
    "os.chdir(\"/home/jupyter/packages/MetaXcan/software/allofus_test\")\n",
    "\n",
    "os.system(\"gsutil cp gs://fc-secure-bb61452f-d5e2-4d26-9227-6a9444241af8/data/filtered_261.2.tsv .\")\n",
    "\n",
    "os.system(\"head -n 50001 filtered_261.2.tsv > first50k.tsv\")\n",
    "\n",
    "infile = \"first50k.tsv\"\n",
    "\n",
    "import pandas as pd\n",
    "df = pd.read_csv(infile, sep=\"\\t\")\n",
    "print(df[\"alleles\"])\n",
    "\n",
    "ref = []\n",
    "alt = []\n",
    "for row in df[\"alleles\"]:\n",
    "    allele_split = row.split(\",\")\n",
    "    ref.append(allele_split[0][2:-1])\n",
    "    alt.append(allele_split[1][1:-2])\n",
    "\n",
    "df[\"ref\"] = ref\n",
    "df[\"alt\"] = alt\n",
    "df.drop(\"alleles\", axis=1, inplace=True)\n",
    "\n",
    "print(df.head())\n",
    "print(df.tail())\n",
    "\n",
    "df.to_csv(\"allofus_test.tsv\", sep=\"\\t\")\n",
    "\n",
    "os.mkdir(\"data\")\n",
    "os.system(\"mv allofus_test.tsv data\")"
   ]
  },
  {
   "cell_type": "code",
   "execution_count": null,
   "metadata": {},
   "outputs": [],
   "source": [
    "# run S-PrediXcan with test data\n",
    "\n",
    "import os\n",
    "\n",
    "### RUN BELOW FROM THE COMMAND LINE ###\n",
    "\n",
    "os.chdir(\"/home/jupyter/packages/MetaXcan/software\")\n",
    "\n",
    "os.system(\"conda activate imlabtools\")\n",
    "\n",
    "os.system(\"./SPrediXcan.py \\\n",
    "--model_db_path allofus_test/eqtl/mashr/mashr_Stomach.db \\\n",
    "--covariance allofus/test/eqtl/mashr/mashr_Stomach.txt.gz \\\n",
    "--gwas_folder allofus_test/data \\\n",
    "--gwas_file_pattern '*.tsv' \\\n",
    "--snp_column locus \\\n",
    "--effect_allele_column ref \\\n",
    "--non_effect_allele_column alt \\\n",
    "--beta_column BETA \\\n",
    "--pvalue_column Pvalue \\\n",
    "--se_column SE \\\n",
    "--output_file results/test.csv\")"
   ]
  }
 ],
 "metadata": {
  "kernelspec": {
   "display_name": "Python [conda env:root] *",
   "language": "python",
   "name": "conda-root-py"
  },
  "language_info": {
   "codemirror_mode": {
    "name": "ipython",
    "version": 3
   },
   "file_extension": ".py",
   "mimetype": "text/x-python",
   "name": "python",
   "nbconvert_exporter": "python",
   "pygments_lexer": "ipython3",
   "version": "3.10.12"
  },
  "toc": {
   "base_numbering": 1,
   "nav_menu": {
    "height": "11.6px",
    "width": "321.6px"
   },
   "number_sections": true,
   "sideBar": true,
   "skip_h1_title": false,
   "title_cell": "Table of Contents",
   "title_sidebar": "Contents",
   "toc_cell": false,
   "toc_position": {},
   "toc_section_display": true,
   "toc_window_display": false
  }
 },
 "nbformat": 4,
 "nbformat_minor": 2
}
