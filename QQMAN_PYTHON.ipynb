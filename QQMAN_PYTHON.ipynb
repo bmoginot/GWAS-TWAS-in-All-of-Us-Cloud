{
 "cells": [
  {
   "cell_type": "code",
   "execution_count": null,
   "metadata": {},
   "outputs": [],
   "source": [
    "import os\n",
    "\n",
    "cmd = \"gsutil cat gs://fc-secure-bb61452f-d5e2-4d26-9227-6a9444241af8/data/401.tsv | head -n 10\"\n",
    "with os.popen(cmd) as file:\n",
    "    print(file.read())\n"
   ]
  },
  {
   "cell_type": "code",
   "execution_count": null,
   "metadata": {},
   "outputs": [],
   "source": [
    "import subprocess\n",
    "\n",
    "subprocess.run([\"pip\", \"install\", \"qqman\"])\n",
    "# qqman in /home/jupyter/.local/lib/python3.10/site-packages\n",
    "\n",
    "subprocess.run([\"pip\", \"install\", \"numpy\"])\n",
    "# numpy in /opt/conda/lib/python3.10/site-packages\n",
    "\n",
    "subprocess.run([\"pip\", \"install\", \"pandas\"])\n",
    "# pandas in /opt/conda/lib/python3.10/site-packages \n",
    "\n",
    "subprocess.run([\"pip\", \"install\", \"matplotlib\"])\n",
    "# matplotlib in /opt/conda/lib/python3.10/site-packages\n"
   ]
  },
  {
   "cell_type": "code",
   "execution_count": null,
   "metadata": {},
   "outputs": [],
   "source": [
    "from qqman import qqman\n",
    "\n",
    "if __name__ == \"__main__\":\n",
    "\tqqman.manhattan(\"../../temp.assoc\",out=\"./Manhattan.png\")"
   ]
  },
  {
   "cell_type": "code",
   "execution_count": null,
   "metadata": {},
   "outputs": [],
   "source": []
  }
 ],
 "metadata": {
  "kernelspec": {
   "display_name": "Python 3",
   "language": "python",
   "name": "python3"
  },
  "language_info": {
   "codemirror_mode": {
    "name": "ipython",
    "version": 3
   },
   "file_extension": ".py",
   "mimetype": "text/x-python",
   "name": "python",
   "nbconvert_exporter": "python",
   "pygments_lexer": "ipython3",
   "version": "3.10.12"
  },
  "toc": {
   "base_numbering": 1,
   "nav_menu": {},
   "number_sections": true,
   "sideBar": true,
   "skip_h1_title": false,
   "title_cell": "Table of Contents",
   "title_sidebar": "Contents",
   "toc_cell": false,
   "toc_position": {},
   "toc_section_display": true,
   "toc_window_display": false
  }
 },
 "nbformat": 4,
 "nbformat_minor": 2
}
