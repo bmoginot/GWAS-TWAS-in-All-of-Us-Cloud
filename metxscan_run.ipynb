{
 "cells": [
  {
   "cell_type": "code",
   "execution_count": null,
   "metadata": {},
   "outputs": [],
   "source": [
    "# instructions to download miniconda3 per their website\n",
    "\n",
    "# from the terminal run these lines of code:\n",
    "\"\"\"\n",
    "mkdir -p ~/miniconda3\n",
    "wget https://repo.anaconda.com/miniconda/Miniconda3-latest-Linux-x86_64.sh -O ~/miniconda3/miniconda.sh\n",
    "bash ~/miniconda3/miniconda.sh -b -u -p ~/miniconda3\n",
    "rm ~/miniconda3/miniconda.sh\n",
    "\n",
    "source ~/miniconda3/bin/activate\n",
    "conda init --all\n",
    "\"\"\"\n",
    "\n",
    "# then close and reopen the terminal"
   ]
  },
  {
   "cell_type": "code",
   "execution_count": null,
   "metadata": {},
   "outputs": [],
   "source": [
    "# set up MetaXcan\n",
    "\n",
    "# clone the repository\n",
    "\"\"\"\n",
    "cd ~\n",
    "git clone https://github.com/hakyimlab/MetaXcan.git\n",
    "\"\"\"\n",
    "\n",
    "# create a conda environment for MetaXcan\n",
    "\"\"\"\n",
    "cd MetaXcan/software\n",
    "conda env create -f conda_env.yaml\n",
    "\"\"\"\n",
    "\n",
    "# then, open up a jupyter notebook\n",
    "# click on the 'Kernel' tab at the top\n",
    "# hover over 'Change kernel'\n",
    "# click on 'Python [conda env:imlabtools]'"
   ]
  },
  {
   "cell_type": "code",
   "execution_count": null,
   "metadata": {},
   "outputs": [],
   "source": [
    "# run S-PrediXcan with test data\n",
    "import os\n",
    "os.chdir(\"/home/jupyter/MetaXcan/software\")\n",
    "\n",
    "os.system(\"./SPrediXcan.py \\\n",
    "--model_db_path data/DGN-WB_0.5.db \\\n",
    "--covariance data/covariance.DGN-WB_0.5.txt.gz \\\n",
    "--gwas_folder data/GWAS \\\n",
    "--gwas_file_pattern '.*gz' \\\n",
    "--snp_column SNP \\\n",
    "--effect_allele_column A1 \\\n",
    "--non_effect_allele_column A2 \\\n",
    "--beta_column BETA \\\n",
    "--pvalue_column P \\\n",
    "--output_file results/test.csv\")"
   ]
  }
 ],
 "metadata": {
  "kernelspec": {
   "display_name": "Python [conda env:root] *",
   "language": "python",
   "name": "conda-root-py"
  },
  "language_info": {
   "codemirror_mode": {
    "name": "ipython",
    "version": 3
   },
   "file_extension": ".py",
   "mimetype": "text/x-python",
   "name": "python",
   "nbconvert_exporter": "python",
   "pygments_lexer": "ipython3",
   "version": "3.10.12"
  },
  "toc": {
   "base_numbering": 1,
   "nav_menu": {
    "height": "11.6px",
    "width": "321.6px"
   },
   "number_sections": true,
   "sideBar": true,
   "skip_h1_title": false,
   "title_cell": "Table of Contents",
   "title_sidebar": "Contents",
   "toc_cell": false,
   "toc_position": {},
   "toc_section_display": true,
   "toc_window_display": false
  }
 },
 "nbformat": 4,
 "nbformat_minor": 2
}
