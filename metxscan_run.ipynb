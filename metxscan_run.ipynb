{
 "cells": [
  {
   "cell_type": "code",
   "execution_count": null,
   "metadata": {},
   "outputs": [],
   "source": [
    "# download and run S-PrediXcan\n",
    "import os"
   ]
  },
  {
   "cell_type": "code",
   "execution_count": null,
   "metadata": {},
   "outputs": [],
   "source": [
    "# download miniconda\n",
    "os.system(\"mkdir -p ~/miniconda3\")\n",
    "os.system(\"wget https://repo.anaconda.com/miniconda/Miniconda3-latest-Linux-x86_64.sh -O ~/miniconda3/miniconda.sh\")\n",
    "os.system(\"bash ~/miniconda3/miniconda.sh -b -u -p ~/miniconda3\")\n",
    "os.system(\"rm ~/miniconda3/miniconda.sh\")\n",
    "\n",
    "# activate miniconda\n",
    "os.system(\"source ~/miniconda3/bin/activate\")\n",
    "os.system(\"conda init --all\")"
   ]
  },
  {
   "cell_type": "code",
   "execution_count": null,
   "metadata": {},
   "outputs": [],
   "source": [
    "# set up MetaXcan\n",
    "os.system(\"git clone https://github.com/hakyimlab/MetaXcan.git\") # clone repository\n",
    "os.chdir(\"MetaXcan/software\") # move into repo\n",
    "os.system(\"conda env create -f conda_env.yaml\") # create virtual environment with depedencies\n",
    "os.system(\"conda activate imlabtools\") # activate virtual env"
   ]
  },
  {
   "cell_type": "code",
   "execution_count": null,
   "metadata": {},
   "outputs": [],
   "source": [
    "# run S-PrediXcan with test data\n",
    "os.system(\"./SPrediXcan.py \\\n",
    "--model_db_path data/DGN-WB_0.5.db \\\n",
    "--covariance data/covariance.DGN-WB_0.5.txt.gz \\\n",
    "--gwas_folder data/GWAS \\\n",
    "--gwas_file_pattern '.*gz' \\\n",
    "--snp_column SNP \\\n",
    "--effect_allele_column A1 \\\n",
    "--non_effect_allele_column A2 \\\n",
    "--beta_column BETA \\\n",
    "--pvalue_column P \\\n",
    "--output_file results/test.csv\")"
   ]
  }
 ],
 "metadata": {
  "kernelspec": {
   "display_name": "Python 3",
   "language": "python",
   "name": "python3"
  },
  "language_info": {
   "codemirror_mode": {
    "name": "ipython",
    "version": 3
   },
   "file_extension": ".py",
   "mimetype": "text/x-python",
   "name": "python",
   "nbconvert_exporter": "python",
   "pygments_lexer": "ipython3",
   "version": "3.10.12"
  },
  "toc": {
   "base_numbering": 1,
   "nav_menu": {},
   "number_sections": true,
   "sideBar": true,
   "skip_h1_title": false,
   "title_cell": "Table of Contents",
   "title_sidebar": "Contents",
   "toc_cell": false,
   "toc_position": {},
   "toc_section_display": true,
   "toc_window_display": false
  }
 },
 "nbformat": 4,
 "nbformat_minor": 2
}
