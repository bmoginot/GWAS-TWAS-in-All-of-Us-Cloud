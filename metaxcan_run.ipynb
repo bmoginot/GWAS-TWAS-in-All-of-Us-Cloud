{
 "cells": [
  {
   "cell_type": "code",
   "execution_count": null,
   "metadata": {},
   "outputs": [],
   "source": [
    "# Dr. Wheeler:\n",
    "# Claudia created two new files, \"formatted_714.1.tsv\" and \"large_formatted_714.1.tsv\".\n",
    "# I ran both of these through S-PrediXcan using the specifications in the final cell.\n",
    "# Both times, it said only 1 % or 2% of the model's SNPs were used.\n",
    "# This was also the case when I re-ran two older files, \"formatted_261.2.tsv\" and \"formatted_250.tsv\".\n",
    "# I tried running each file with different matrices and models from mashr but still came up with 1-2%.\n",
    "# As it stands, the input we have seems to be incompatible with S-PrediXcan even though I can see no meaningful difference\n",
    "# between it and the META file that had been formatted for the tool.\n",
    "# Please email me if I need to clarify anything. Thank you again for your help.\n",
    "\n",
    "# Please run the code in the following docstrings from the command line.\n",
    "# Apologies, I have not yet nailed down the jupyter notebook functionality."
   ]
  },
  {
   "cell_type": "code",
   "execution_count": null,
   "metadata": {},
   "outputs": [],
   "source": [
    "# instructions to download miniconda3 per their website\n",
    "\n",
    "# from the terminal run these lines of code:\n",
    "\"\"\"\n",
    "mkdir -p ~/miniconda3\n",
    "wget https://repo.anaconda.com/miniconda/Miniconda3-latest-Linux-x86_64.sh -O ~/miniconda3/miniconda.sh\n",
    "bash ~/miniconda3/miniconda.sh -b -u -p ~/miniconda3\n",
    "rm ~/miniconda3/miniconda.sh\n",
    "\n",
    "source ~/miniconda3/bin/activate\n",
    "conda init --all\n",
    "source ~/.bashrc\n",
    "\"\"\""
   ]
  },
  {
   "cell_type": "code",
   "execution_count": null,
   "metadata": {},
   "outputs": [],
   "source": [
    "# set up MetaXcan\n",
    "\n",
    "# clone the repository\n",
    "\"\"\"\n",
    "cd /home/jupyter/packages\n",
    "git clone https://github.com/hakyimlab/MetaXcan.git\n",
    "\"\"\"\n",
    "\n",
    "# create a conda environment for MetaXcan\n",
    "\"\"\"\n",
    "cd /home/jupyter/packages/MetaXcan/software\n",
    "conda env create -f conda_env.yaml\n",
    "\"\"\"\n",
    "\n",
    "# get covariance matrices via\n",
    "\"\"\"\n",
    "cd /home/jupyter/packages/MetaXcan/software\n",
    "mkdir allofus_test\n",
    "cd allofus_test\n",
    "wget https://zenodo.org/record/3518299/files/mashr_eqtl.tar?download=1 -O mashr_eqtl.tar\n",
    "tar -xvpf mashr_eqtl.tar\n",
    "rm mashr_eqtl.tar\n",
    "\"\"\"\n",
    "\n",
    "### IGNORE BELOW IF TESTING ON COMMAND LINE ###\n",
    "\n",
    "# then, open up a jupyter notebook\n",
    "# click on the 'Kernel' tab at the top\n",
    "# hover over 'Change kernel'\n",
    "# click on 'Python [conda env:imlabtools]'"
   ]
  },
  {
   "cell_type": "code",
   "execution_count": null,
   "metadata": {},
   "outputs": [],
   "source": [
    "# run S-PrediXcan with test data\n",
    "\n",
    "# get test data from bucket\n",
    "\"\"\"\n",
    "cd /home/jupyter/packages/MetaXcan/software/allofus_test\n",
    "gsutil -m cp gs://fc-secure-bb61452f-d5e2-4d26-9227-6a9444241af8/data/*.tsv .\n",
    "\"\"\"\n",
    "\n",
    "# activate conda venv\n",
    "\"\"\"\n",
    "cd /home/jupyter/packages/MetaXcan/software\n",
    "conda activate imlabtools\n",
    "\"\"\""
   ]
  },
  {
   "cell_type": "code",
   "execution_count": null,
   "metadata": {},
   "outputs": [],
   "source": [
    "\"\"\"\n",
    "python summary-gwas-imputation/src/gwas_parsing.py \\\n",
    "-gwas_file data/formatted_gtex_714.1.tsv \\\n",
    "-snp_reference_metadata data/variant_metadata.txt.gz METADATA \\\n",
    "-output_column_map ID variant_id \\\n",
    "-output_column_map REF non_effect_allele \\\n",
    "-output_column_map ALT effect_allele \\\n",
    "-output_column_map BETA effect_size \\\n",
    "-output_column_map SE standard_error \\\n",
    "-output_column_map \\#CHROM chromosome \\\n",
    "--chromosome_format \\\n",
    "-output_column_map POS position \\\n",
    "-output_column_map AF_Allele2 frequency \\\n",
    "--insert_value sample_size 151106 --insert_value n_cases 15406 \\\n",
    "-output_order variant_id panel_variant_id chromosome position effect_allele non_effect_allele frequency pvalue zscore effect_size standard_error sample_size n_cases \\\n",
    "-output META_phenotype_CV_404_ACAF_sumstats_for_S-PrediXcan.tsv.gz\n",
    "\"\"\""
   ]
  },
  {
   "cell_type": "code",
   "execution_count": null,
   "metadata": {},
   "outputs": [],
   "source": [
    "# run S-PrediXcan\n",
    "# you can change the --model_db_path and --covariance based on gwas data\n",
    "# reference files are in /home/jupyter/packages/MetaXcan/software/allofus_test/eqtl/mashr/\n",
    "\"\"\"\n",
    "python MetaXcan/software/SPrediXcan.py \\\n",
    "--gwas_file META_phenotype_CV_404_ACAF_sumstats_for_S-PrediXcan.tsv.gz \\\n",
    "--snp_column panel_variant_id \\\n",
    "--effect_allele_column effect_allele \\\n",
    "--non_effect_allele_column non_effect_allele \\\n",
    "--beta_column effect_size \\\n",
    "--se_column standard_error \\\n",
    "--model_db_path eqtl/mashr/mashr_Heart_Atrial_Appendage.db \\\n",
    "--covariance eqtl/mashr/mashr_Heart_Atrial_Appendage.txt.gz \\\n",
    "--keep_non_rsid \\\n",
    "--additional_output \\\n",
    "--model_db_snp_key varID \\\n",
    "--throw \\\n",
    "--output_file AoU_META_phenotype_CV_404_ACAF_Heart_Atrial_Appendage.csv\n",
    "\"\"\"\n",
    "\n",
    "# results are in /home/jupyter/packages/MetaXcan/software/allofus_test/results.csv"
   ]
  },
  {
   "cell_type": "code",
   "execution_count": null,
   "metadata": {},
   "outputs": [],
   "source": [
    "import os\n",
    "os.chdir(\"/home/jupyter/packages\")\n",
    "os.system(\"python MetaXcan/software/SPrediXcan.py \\\n",
    "--gwas_file data/formatted_gtex_714.1.tsv \\\n",
    "--snp_column SNP \\\n",
    "--effect_allele_column ALT \\\n",
    "--non_effect_allele_column REF \\\n",
    "--beta_column BETA \\\n",
    "--se_column SE \\\n",
    "--model_db_path eqtl/mashr/mashr_Heart_Atrial_Appendage.db \\\n",
    "--covariance eqtl/mashr/mashr_Heart_Atrial_Appendage.txt.gz \\\n",
    "--keep_non_rsid \\\n",
    "--additional_output \\\n",
    "--model_db_snp_key varID \\\n",
    "--throw \\\n",
    "--output_file qqman-twas-input.csv\")"
   ]
  },
  {
   "cell_type": "code",
   "execution_count": null,
   "metadata": {},
   "outputs": [],
   "source": []
  }
 ],
 "metadata": {
  "kernelspec": {
   "display_name": "Python [conda env:root] *",
   "language": "python",
   "name": "conda-root-py"
  },
  "language_info": {
   "codemirror_mode": {
    "name": "ipython",
    "version": 3
   },
   "file_extension": ".py",
   "mimetype": "text/x-python",
   "name": "python",
   "nbconvert_exporter": "python",
   "pygments_lexer": "ipython3",
   "version": "3.10.12"
  },
  "toc": {
   "base_numbering": 1,
   "nav_menu": {},
   "number_sections": true,
   "sideBar": true,
   "skip_h1_title": false,
   "title_cell": "Table of Contents",
   "title_sidebar": "Contents",
   "toc_cell": false,
   "toc_position": {},
   "toc_section_display": true,
   "toc_window_display": false
  }
 },
 "nbformat": 4,
 "nbformat_minor": 2
}
