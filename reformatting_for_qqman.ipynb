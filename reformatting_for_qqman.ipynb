{
 "cells": [
  {
   "cell_type": "code",
   "execution_count": null,
   "metadata": {},
   "outputs": [],
   "source": [
    "import subprocess\n",
    "import os\n",
    "\n",
    "subprocess.run([\"pip\", \"install\", \"qqman\"])\n",
    "# qqman in /home/jupyter/.local/lib/python3.10/site-packages\n",
    "\n",
    "subprocess.run([\"pip\", \"install\", \"numpy\"])\n",
    "# numpy in /opt/conda/lib/python3.10/site-packages\n",
    "\n",
    "subprocess.run([\"pip\", \"install\", \"pandas\"])\n",
    "# pandas in /opt/conda/lib/python3.10/site-packages \n",
    "\n",
    "subprocess.run([\"pip\", \"install\", \"matplotlib\"])\n",
    "# matplotlib in /opt/conda/lib/python3.10/site-packages\n"
   ]
  },
  {
   "cell_type": "code",
   "execution_count": null,
   "metadata": {},
   "outputs": [],
   "source": [
    "# read in files so that they can be reformmatted for qqman (in progress) \n",
    "# SNP_ID = locus\n",
    "# BP_location = pos\n",
    "# P = pvalue \n",
    "# CHR = CHR but remove \"chr\"\n",
    "\n",
    "# #format: \n",
    "\n",
    "#   SNP CHR BP         P\n",
    "# 1 rs1   1  1 0.9148060\n",
    "# 2 rs2   1  2 0.9370754\n",
    "# 3 rs3   1  3 0.2861395\n",
    "# 4 rs4   1  4 0.8304476\n",
    "# 5 rs5   1  5 0.6417455\n",
    "# 6 rs6   1  6 0.5190959\n",
    "\n",
    "\n",
    "# looking at the data in the tsv file so i can understand how to change it up \n",
    "top_ten = \"gsutil cat gs://fc-secure-bb61452f-d5e2-4d26-9227-6a9444241af8/data/filtered_261.2.tsv | head -n 10\"\n",
    "with os.popen(top_ten) as file:\n",
    "    print(file.read())\n"
   ]
  },
  {
   "cell_type": "code",
   "execution_count": null,
   "metadata": {},
   "outputs": [],
   "source": [
    "# reformatting \n",
    "\n",
    "import pandas as pd\n",
    "import subprocess\n",
    "from io import StringIO\n",
    "\n",
    "# command that is grabbing the top 5  \n",
    "data_tsv = \"gsutil cat gs://fc-secure-bb61452f-d5e2-4d26-9227-6a9444241af8/data/filtered_261.2.tsv\"\n",
    "\n",
    "# run os command, avoid any errors to keep it clean so theyre piped \n",
    "result = subprocess.run(data_tsv, shell=True, stdout=subprocess.PIPE, stderr=subprocess.PIPE)\n",
    "\n",
    "# make the data from the file human readable\n",
    "data = result.stdout.decode('utf-8')\n",
    "\n",
    "# because original tsv is sep by \\t, read the data as such \n",
    "df = pd.read_csv(StringIO(data), sep='\\t')\n",
    "# string IO so that we can manipulate the data as a dataframe \n",
    "\n",
    "# for the locus, pos, chr, and pvalue data... rename the columns we are interested in for qqman \n",
    "df['SNP'] = df['locus']\n",
    "df['BP'] = df['POS']\n",
    "df['CHR'] = df['CHR'].str.replace('chr', '') #remove the chr part cause we dont want that\n",
    "df['P'] = df['Pvalue']\n",
    "\n",
    "# keeping only the required columns wanted by qqman\n",
    "result = df[['SNP', 'CHR', 'BP', 'P']]\n",
    "\n",
    "# saving the results to a txt with space separation for usability in qqman, will not accept tsv or csv...\n",
    "output_file = '/home/jupyter/GWAS-TWAS-in-All-of-Us-Cloud/reformat_output_file.txt'\n",
    "result.to_csv(output_file, index=False, sep = ' ')\n",
    "\n",
    "#just to verify that the file was made \n",
    "print(f\"{output_file} made\")\n",
    "\n"
   ]
  },
  {
   "cell_type": "code",
   "execution_count": null,
   "metadata": {},
   "outputs": [],
   "source": [
    "# from here, use the txt data in the qqman_of_reformat R code for visual of manhattan"
   ]
  },
  {
   "cell_type": "code",
   "execution_count": null,
   "metadata": {},
   "outputs": [],
   "source": []
  }
 ],
 "metadata": {
  "kernelspec": {
   "display_name": "Python 3",
   "language": "python",
   "name": "python3"
  },
  "language_info": {
   "codemirror_mode": {
    "name": "ipython",
    "version": 3
   },
   "file_extension": ".py",
   "mimetype": "text/x-python",
   "name": "python",
   "nbconvert_exporter": "python",
   "pygments_lexer": "ipython3",
   "version": "3.10.12"
  },
  "toc": {
   "base_numbering": 1,
   "nav_menu": {},
   "number_sections": true,
   "sideBar": true,
   "skip_h1_title": false,
   "title_cell": "Table of Contents",
   "title_sidebar": "Contents",
   "toc_cell": false,
   "toc_position": {},
   "toc_section_display": true,
   "toc_window_display": false
  }
 },
 "nbformat": 4,
 "nbformat_minor": 2
}
