{
 "cells": [
  {
   "cell_type": "code",
   "execution_count": null,
   "metadata": {},
   "outputs": [],
   "source": [
    "# instructions to download miniconda3 per their website\n",
    "\n",
    "# from the terminal run these lines of code:\n",
    "\"\"\"\n",
    "mkdir -p ~/miniconda3\n",
    "wget https://repo.anaconda.com/miniconda/Miniconda3-latest-Linux-x86_64.sh -O ~/miniconda3/miniconda.sh\n",
    "bash ~/miniconda3/miniconda.sh -b -u -p ~/miniconda3\n",
    "rm ~/miniconda3/miniconda.sh\n",
    "\n",
    "source ~/miniconda3/bin/activate\n",
    "conda init --all\n",
    "source ~/.bashrc\n",
    "\"\"\""
   ]
  },
  {
   "cell_type": "code",
   "execution_count": null,
   "metadata": {},
   "outputs": [],
   "source": [
    "# set up MetaXcan\n",
    "\n",
    "# clone the repository\n",
    "\"\"\"\n",
    "cd /home/jupyter/packages\n",
    "git clone https://github.com/hakyimlab/MetaXcan.git\n",
    "\"\"\"\n",
    "\n",
    "# create a conda environment for MetaXcan\n",
    "\"\"\"\n",
    "cd /home/jupyter/packages/MetaXcan/software\n",
    "conda env create -f conda_env.yaml\n",
    "\"\"\"\n",
    "\n",
    "# get covariance matrices via\n",
    "\"\"\"\n",
    "cd /home/jupyter/packages/MetaXcan/software\n",
    "mkdir allofus_test\n",
    "cd allofus_test\n",
    "wget https://zenodo.org/record/3518299/files/mashr_eqtl.tar?download=1 -O mashr_eqtl.tar\n",
    "tar -xvpf mashr_eqtl.tar\n",
    "rm mashr_eqtl.tar\n",
    "\"\"\"\n",
    "\n",
    "### IGNORE BELOW IF TESTING ON COMMAND LINE ###\n",
    "\n",
    "# then, open up a jupyter notebook\n",
    "# click on the 'Kernel' tab at the top\n",
    "# hover over 'Change kernel'\n",
    "# click on 'Python [conda env:imlabtools]'"
   ]
  },
  {
   "cell_type": "code",
   "execution_count": null,
   "metadata": {},
   "outputs": [],
   "source": [
    "# run S-PrediXcan with test data\n",
    "\n",
    "# get test data from bucket\n",
    "\"\"\"\n",
    "cd /home/jupyter/packages/MetaXcan/software/allofus_test\n",
    "cp gs://fc-secure-bb61452f-d5e2-4d26-9227-6a9444241af8/data/*714.1.tsv .\n",
    "\"\"\"\n",
    "\n",
    "# activate conda venv\n",
    "\"\"\"\n",
    "cd /home/jupyter/packages/MetaXcan/software\n",
    "conda activate imlabtools\n",
    "\"\"\"\n",
    "\n",
    "# run S-PrediXcan\n",
    "# you can change the --model_db_path and --covariance based on gwas data\n",
    "# reference files are in /home/jupyter/packages/MetaXcan/software/allofus_test/eqtl/mashr/\n",
    "\"\"\"\n",
    "./SPrediXcan.py \\\n",
    "--model_db_path allofus_test/eqtl/mashr/mashr_Stomach.db \\\n",
    "--covariance allofus_test/eqtl/mashr/mashr_Stomach.txt.gz \\\n",
    "--gwas_file allofus_test/formatted_714.1.tsv \\\n",
    "--snp_column SNP \\\n",
    "--effect_allele_column A2 \\\n",
    "--non_effect_allele_column A1 \\\n",
    "--beta_column BETA \\\n",
    "--pvalue_column P \\\n",
    "--se_column SE \\\n",
    "--output_file allofus_test/results.csv\n",
    "\"\"\"\n",
    "\n",
    "# results are in /home/jupyter/packages/MetaXcan/software/allofus_test/results.csv"
   ]
  }
 ],
 "metadata": {
  "kernelspec": {
   "display_name": "Python 3",
   "language": "python",
   "name": "python3"
  },
  "language_info": {
   "codemirror_mode": {
    "name": "ipython",
    "version": 3
   },
   "file_extension": ".py",
   "mimetype": "text/x-python",
   "name": "python",
   "nbconvert_exporter": "python",
   "pygments_lexer": "ipython3",
   "version": "3.10.12"
  },
  "toc": {
   "base_numbering": 1,
   "nav_menu": {},
   "number_sections": true,
   "sideBar": true,
   "skip_h1_title": false,
   "title_cell": "Table of Contents",
   "title_sidebar": "Contents",
   "toc_cell": false,
   "toc_position": {},
   "toc_section_display": true,
   "toc_window_display": false
  }
 },
 "nbformat": 4,
 "nbformat_minor": 2
}
